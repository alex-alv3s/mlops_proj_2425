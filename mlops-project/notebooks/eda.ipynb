{
 "cells": [
  {
   "cell_type": "code",
   "execution_count": 1,
   "id": "bfd24bf6",
   "metadata": {},
   "outputs": [],
   "source": [
    "import pandas as pd\n",
    "import numpy as np\n",
    "import matplotlib.pyplot as plt\n",
    "import seaborn as sns"
   ]
  },
  {
   "cell_type": "code",
   "execution_count": 4,
   "id": "059faa66",
   "metadata": {},
   "outputs": [],
   "source": [
    "df = pd.read_csv(\"../data/02_intermediate/stroke_data_ref.csv\")"
   ]
  },
  {
   "cell_type": "markdown",
   "id": "976c639f",
   "metadata": {},
   "source": [
    "# Data Understanding"
   ]
  },
  {
   "cell_type": "code",
   "execution_count": 5,
   "id": "621bea73",
   "metadata": {},
   "outputs": [
    {
     "data": {
      "application/vnd.microsoft.datawrangler.viewer.v0+json": {
       "columns": [
        {
         "name": "index",
         "rawType": "int64",
         "type": "integer"
        },
        {
         "name": "id",
         "rawType": "int64",
         "type": "integer"
        },
        {
         "name": "gender",
         "rawType": "object",
         "type": "string"
        },
        {
         "name": "age",
         "rawType": "float64",
         "type": "float"
        },
        {
         "name": "hypertension",
         "rawType": "int64",
         "type": "integer"
        },
        {
         "name": "heart_disease",
         "rawType": "int64",
         "type": "integer"
        },
        {
         "name": "ever_married",
         "rawType": "object",
         "type": "string"
        },
        {
         "name": "work_type",
         "rawType": "object",
         "type": "string"
        },
        {
         "name": "Residence_type",
         "rawType": "object",
         "type": "string"
        },
        {
         "name": "avg_glucose_level",
         "rawType": "float64",
         "type": "float"
        },
        {
         "name": "bmi",
         "rawType": "float64",
         "type": "float"
        },
        {
         "name": "smoking_status",
         "rawType": "object",
         "type": "string"
        },
        {
         "name": "stroke",
         "rawType": "int64",
         "type": "integer"
        }
       ],
       "ref": "8bda0767-59a4-4889-8b4a-e19c8a775e73",
       "rows": [
        [
         "0",
         "53219",
         "Male",
         "47.0",
         "0",
         "0",
         "Yes",
         "Private",
         "Urban",
         "63.98",
         "26.8",
         "smokes",
         "0"
        ],
        [
         "1",
         "7725",
         "Male",
         "54.0",
         "0",
         "0",
         "Yes",
         "Private",
         "Urban",
         "86.26",
         "35.1",
         "formerly smoked",
         "0"
        ],
        [
         "2",
         "50373",
         "Female",
         "3.0",
         "0",
         "0",
         "No",
         "children",
         "Rural",
         "68.34",
         "18.0",
         "Unknown",
         "0"
        ],
        [
         "3",
         "41122",
         "Female",
         "62.0",
         "0",
         "0",
         "Yes",
         "Private",
         "Rural",
         "226.38",
         "47.4",
         "never smoked",
         "0"
        ],
        [
         "4",
         "68249",
         "Female",
         "27.0",
         "0",
         "0",
         "Yes",
         "Private",
         "Rural",
         "85.6",
         "21.4",
         "Unknown",
         "0"
        ]
       ],
       "shape": {
        "columns": 12,
        "rows": 5
       }
      },
      "text/html": [
       "<div>\n",
       "<style scoped>\n",
       "    .dataframe tbody tr th:only-of-type {\n",
       "        vertical-align: middle;\n",
       "    }\n",
       "\n",
       "    .dataframe tbody tr th {\n",
       "        vertical-align: top;\n",
       "    }\n",
       "\n",
       "    .dataframe thead th {\n",
       "        text-align: right;\n",
       "    }\n",
       "</style>\n",
       "<table border=\"1\" class=\"dataframe\">\n",
       "  <thead>\n",
       "    <tr style=\"text-align: right;\">\n",
       "      <th></th>\n",
       "      <th>id</th>\n",
       "      <th>gender</th>\n",
       "      <th>age</th>\n",
       "      <th>hypertension</th>\n",
       "      <th>heart_disease</th>\n",
       "      <th>ever_married</th>\n",
       "      <th>work_type</th>\n",
       "      <th>Residence_type</th>\n",
       "      <th>avg_glucose_level</th>\n",
       "      <th>bmi</th>\n",
       "      <th>smoking_status</th>\n",
       "      <th>stroke</th>\n",
       "    </tr>\n",
       "  </thead>\n",
       "  <tbody>\n",
       "    <tr>\n",
       "      <th>0</th>\n",
       "      <td>53219</td>\n",
       "      <td>Male</td>\n",
       "      <td>47.0</td>\n",
       "      <td>0</td>\n",
       "      <td>0</td>\n",
       "      <td>Yes</td>\n",
       "      <td>Private</td>\n",
       "      <td>Urban</td>\n",
       "      <td>63.98</td>\n",
       "      <td>26.8</td>\n",
       "      <td>smokes</td>\n",
       "      <td>0</td>\n",
       "    </tr>\n",
       "    <tr>\n",
       "      <th>1</th>\n",
       "      <td>7725</td>\n",
       "      <td>Male</td>\n",
       "      <td>54.0</td>\n",
       "      <td>0</td>\n",
       "      <td>0</td>\n",
       "      <td>Yes</td>\n",
       "      <td>Private</td>\n",
       "      <td>Urban</td>\n",
       "      <td>86.26</td>\n",
       "      <td>35.1</td>\n",
       "      <td>formerly smoked</td>\n",
       "      <td>0</td>\n",
       "    </tr>\n",
       "    <tr>\n",
       "      <th>2</th>\n",
       "      <td>50373</td>\n",
       "      <td>Female</td>\n",
       "      <td>3.0</td>\n",
       "      <td>0</td>\n",
       "      <td>0</td>\n",
       "      <td>No</td>\n",
       "      <td>children</td>\n",
       "      <td>Rural</td>\n",
       "      <td>68.34</td>\n",
       "      <td>18.0</td>\n",
       "      <td>Unknown</td>\n",
       "      <td>0</td>\n",
       "    </tr>\n",
       "    <tr>\n",
       "      <th>3</th>\n",
       "      <td>41122</td>\n",
       "      <td>Female</td>\n",
       "      <td>62.0</td>\n",
       "      <td>0</td>\n",
       "      <td>0</td>\n",
       "      <td>Yes</td>\n",
       "      <td>Private</td>\n",
       "      <td>Rural</td>\n",
       "      <td>226.38</td>\n",
       "      <td>47.4</td>\n",
       "      <td>never smoked</td>\n",
       "      <td>0</td>\n",
       "    </tr>\n",
       "    <tr>\n",
       "      <th>4</th>\n",
       "      <td>68249</td>\n",
       "      <td>Female</td>\n",
       "      <td>27.0</td>\n",
       "      <td>0</td>\n",
       "      <td>0</td>\n",
       "      <td>Yes</td>\n",
       "      <td>Private</td>\n",
       "      <td>Rural</td>\n",
       "      <td>85.60</td>\n",
       "      <td>21.4</td>\n",
       "      <td>Unknown</td>\n",
       "      <td>0</td>\n",
       "    </tr>\n",
       "  </tbody>\n",
       "</table>\n",
       "</div>"
      ],
      "text/plain": [
       "      id  gender   age  hypertension  heart_disease ever_married work_type  \\\n",
       "0  53219    Male  47.0             0              0          Yes   Private   \n",
       "1   7725    Male  54.0             0              0          Yes   Private   \n",
       "2  50373  Female   3.0             0              0           No  children   \n",
       "3  41122  Female  62.0             0              0          Yes   Private   \n",
       "4  68249  Female  27.0             0              0          Yes   Private   \n",
       "\n",
       "  Residence_type  avg_glucose_level   bmi   smoking_status  stroke  \n",
       "0          Urban              63.98  26.8           smokes       0  \n",
       "1          Urban              86.26  35.1  formerly smoked       0  \n",
       "2          Rural              68.34  18.0          Unknown       0  \n",
       "3          Rural             226.38  47.4     never smoked       0  \n",
       "4          Rural              85.60  21.4          Unknown       0  "
      ]
     },
     "execution_count": 5,
     "metadata": {},
     "output_type": "execute_result"
    }
   ],
   "source": [
    "df.head()"
   ]
  },
  {
   "cell_type": "code",
   "execution_count": 6,
   "id": "ec948b5a",
   "metadata": {},
   "outputs": [
    {
     "name": "stdout",
     "output_type": "stream",
     "text": [
      "Dataset Shape: (4088, 12)\n"
     ]
    }
   ],
   "source": [
    "print(\"Dataset Shape:\", df.shape)"
   ]
  },
  {
   "cell_type": "code",
   "execution_count": 7,
   "id": "1e070524",
   "metadata": {},
   "outputs": [
    {
     "name": "stdout",
     "output_type": "stream",
     "text": [
      "<class 'pandas.core.frame.DataFrame'>\n",
      "RangeIndex: 4088 entries, 0 to 4087\n",
      "Data columns (total 12 columns):\n",
      " #   Column             Non-Null Count  Dtype  \n",
      "---  ------             --------------  -----  \n",
      " 0   id                 4088 non-null   int64  \n",
      " 1   gender             4088 non-null   object \n",
      " 2   age                4088 non-null   float64\n",
      " 3   hypertension       4088 non-null   int64  \n",
      " 4   heart_disease      4088 non-null   int64  \n",
      " 5   ever_married       4088 non-null   object \n",
      " 6   work_type          4088 non-null   object \n",
      " 7   Residence_type     4088 non-null   object \n",
      " 8   avg_glucose_level  4088 non-null   float64\n",
      " 9   bmi                3926 non-null   float64\n",
      " 10  smoking_status     4088 non-null   object \n",
      " 11  stroke             4088 non-null   int64  \n",
      "dtypes: float64(3), int64(4), object(5)\n",
      "memory usage: 383.4+ KB\n"
     ]
    }
   ],
   "source": [
    "df.info()"
   ]
  },
  {
   "cell_type": "code",
   "execution_count": 8,
   "id": "6bece286",
   "metadata": {},
   "outputs": [
    {
     "name": "stdout",
     "output_type": "stream",
     "text": [
      "                   Missing Values  Percentage\n",
      "bmi                           162    3.962818\n",
      "id                              0    0.000000\n",
      "gender                          0    0.000000\n",
      "age                             0    0.000000\n",
      "hypertension                    0    0.000000\n",
      "heart_disease                   0    0.000000\n",
      "ever_married                    0    0.000000\n",
      "work_type                       0    0.000000\n",
      "Residence_type                  0    0.000000\n",
      "avg_glucose_level               0    0.000000\n",
      "smoking_status                  0    0.000000\n",
      "stroke                          0    0.000000\n"
     ]
    }
   ],
   "source": [
    "missing_values = df.isnull().sum()\n",
    "missing_percentages = (missing_values / len(df)) * 100\n",
    "missing_df = pd.DataFrame({\n",
    "    'Missing Values': missing_values,\n",
    "    'Percentage': missing_percentages\n",
    "})\n",
    "\n",
    "print(missing_df.sort_values(by='Percentage', ascending=False))"
   ]
  },
  {
   "cell_type": "code",
   "execution_count": 9,
   "id": "97f1b736",
   "metadata": {},
   "outputs": [
    {
     "data": {
      "application/vnd.microsoft.datawrangler.viewer.v0+json": {
       "columns": [
        {
         "name": "index",
         "rawType": "object",
         "type": "string"
        },
        {
         "name": "id",
         "rawType": "float64",
         "type": "float"
        },
        {
         "name": "age",
         "rawType": "float64",
         "type": "float"
        },
        {
         "name": "hypertension",
         "rawType": "float64",
         "type": "float"
        },
        {
         "name": "heart_disease",
         "rawType": "float64",
         "type": "float"
        },
        {
         "name": "avg_glucose_level",
         "rawType": "float64",
         "type": "float"
        },
        {
         "name": "bmi",
         "rawType": "float64",
         "type": "float"
        },
        {
         "name": "stroke",
         "rawType": "float64",
         "type": "float"
        }
       ],
       "ref": "78b7af73-83c6-492c-a042-0a9e8d548734",
       "rows": [
        [
         "count",
         "4088.0",
         "4088.0",
         "4088.0",
         "4088.0",
         "4088.0",
         "3926.0",
         "4088.0"
        ],
        [
         "mean",
         "36439.755626223094",
         "43.14339530332681",
         "0.09809197651663405",
         "0.054549902152641876",
         "106.09817270058707",
         "28.937060621497707",
         "0.04892367906066536"
        ],
        [
         "std",
         "21190.5245806735",
         "22.55935550261177",
         "0.29747535583605006",
         "0.22712734184859693",
         "45.313054238555225",
         "7.942361433559433",
         "0.21573487804265223"
        ],
        [
         "min",
         "67.0",
         "0.08",
         "0.0",
         "0.0",
         "55.12",
         "10.3",
         "0.0"
        ],
        [
         "25%",
         "17485.5",
         "25.0",
         "0.0",
         "0.0",
         "77.28750000000001",
         "23.6",
         "0.0"
        ],
        [
         "50%",
         "36817.0",
         "45.0",
         "0.0",
         "0.0",
         "91.85",
         "28.1",
         "0.0"
        ],
        [
         "75%",
         "54797.5",
         "61.0",
         "0.0",
         "0.0",
         "114.0275",
         "33.1",
         "0.0"
        ],
        [
         "max",
         "72940.0",
         "82.0",
         "1.0",
         "1.0",
         "267.76",
         "97.6",
         "1.0"
        ]
       ],
       "shape": {
        "columns": 7,
        "rows": 8
       }
      },
      "text/html": [
       "<div>\n",
       "<style scoped>\n",
       "    .dataframe tbody tr th:only-of-type {\n",
       "        vertical-align: middle;\n",
       "    }\n",
       "\n",
       "    .dataframe tbody tr th {\n",
       "        vertical-align: top;\n",
       "    }\n",
       "\n",
       "    .dataframe thead th {\n",
       "        text-align: right;\n",
       "    }\n",
       "</style>\n",
       "<table border=\"1\" class=\"dataframe\">\n",
       "  <thead>\n",
       "    <tr style=\"text-align: right;\">\n",
       "      <th></th>\n",
       "      <th>id</th>\n",
       "      <th>age</th>\n",
       "      <th>hypertension</th>\n",
       "      <th>heart_disease</th>\n",
       "      <th>avg_glucose_level</th>\n",
       "      <th>bmi</th>\n",
       "      <th>stroke</th>\n",
       "    </tr>\n",
       "  </thead>\n",
       "  <tbody>\n",
       "    <tr>\n",
       "      <th>count</th>\n",
       "      <td>4088.000000</td>\n",
       "      <td>4088.000000</td>\n",
       "      <td>4088.000000</td>\n",
       "      <td>4088.000000</td>\n",
       "      <td>4088.000000</td>\n",
       "      <td>3926.000000</td>\n",
       "      <td>4088.000000</td>\n",
       "    </tr>\n",
       "    <tr>\n",
       "      <th>mean</th>\n",
       "      <td>36439.755626</td>\n",
       "      <td>43.143395</td>\n",
       "      <td>0.098092</td>\n",
       "      <td>0.054550</td>\n",
       "      <td>106.098173</td>\n",
       "      <td>28.937061</td>\n",
       "      <td>0.048924</td>\n",
       "    </tr>\n",
       "    <tr>\n",
       "      <th>std</th>\n",
       "      <td>21190.524581</td>\n",
       "      <td>22.559356</td>\n",
       "      <td>0.297475</td>\n",
       "      <td>0.227127</td>\n",
       "      <td>45.313054</td>\n",
       "      <td>7.942361</td>\n",
       "      <td>0.215735</td>\n",
       "    </tr>\n",
       "    <tr>\n",
       "      <th>min</th>\n",
       "      <td>67.000000</td>\n",
       "      <td>0.080000</td>\n",
       "      <td>0.000000</td>\n",
       "      <td>0.000000</td>\n",
       "      <td>55.120000</td>\n",
       "      <td>10.300000</td>\n",
       "      <td>0.000000</td>\n",
       "    </tr>\n",
       "    <tr>\n",
       "      <th>25%</th>\n",
       "      <td>17485.500000</td>\n",
       "      <td>25.000000</td>\n",
       "      <td>0.000000</td>\n",
       "      <td>0.000000</td>\n",
       "      <td>77.287500</td>\n",
       "      <td>23.600000</td>\n",
       "      <td>0.000000</td>\n",
       "    </tr>\n",
       "    <tr>\n",
       "      <th>50%</th>\n",
       "      <td>36817.000000</td>\n",
       "      <td>45.000000</td>\n",
       "      <td>0.000000</td>\n",
       "      <td>0.000000</td>\n",
       "      <td>91.850000</td>\n",
       "      <td>28.100000</td>\n",
       "      <td>0.000000</td>\n",
       "    </tr>\n",
       "    <tr>\n",
       "      <th>75%</th>\n",
       "      <td>54797.500000</td>\n",
       "      <td>61.000000</td>\n",
       "      <td>0.000000</td>\n",
       "      <td>0.000000</td>\n",
       "      <td>114.027500</td>\n",
       "      <td>33.100000</td>\n",
       "      <td>0.000000</td>\n",
       "    </tr>\n",
       "    <tr>\n",
       "      <th>max</th>\n",
       "      <td>72940.000000</td>\n",
       "      <td>82.000000</td>\n",
       "      <td>1.000000</td>\n",
       "      <td>1.000000</td>\n",
       "      <td>267.760000</td>\n",
       "      <td>97.600000</td>\n",
       "      <td>1.000000</td>\n",
       "    </tr>\n",
       "  </tbody>\n",
       "</table>\n",
       "</div>"
      ],
      "text/plain": [
       "                 id          age  hypertension  heart_disease  \\\n",
       "count   4088.000000  4088.000000   4088.000000    4088.000000   \n",
       "mean   36439.755626    43.143395      0.098092       0.054550   \n",
       "std    21190.524581    22.559356      0.297475       0.227127   \n",
       "min       67.000000     0.080000      0.000000       0.000000   \n",
       "25%    17485.500000    25.000000      0.000000       0.000000   \n",
       "50%    36817.000000    45.000000      0.000000       0.000000   \n",
       "75%    54797.500000    61.000000      0.000000       0.000000   \n",
       "max    72940.000000    82.000000      1.000000       1.000000   \n",
       "\n",
       "       avg_glucose_level          bmi       stroke  \n",
       "count        4088.000000  3926.000000  4088.000000  \n",
       "mean          106.098173    28.937061     0.048924  \n",
       "std            45.313054     7.942361     0.215735  \n",
       "min            55.120000    10.300000     0.000000  \n",
       "25%            77.287500    23.600000     0.000000  \n",
       "50%            91.850000    28.100000     0.000000  \n",
       "75%           114.027500    33.100000     0.000000  \n",
       "max           267.760000    97.600000     1.000000  "
      ]
     },
     "execution_count": 9,
     "metadata": {},
     "output_type": "execute_result"
    }
   ],
   "source": [
    "df.describe()"
   ]
  },
  {
   "cell_type": "code",
   "execution_count": 10,
   "id": "08806a62",
   "metadata": {},
   "outputs": [
    {
     "data": {
      "application/vnd.microsoft.datawrangler.viewer.v0+json": {
       "columns": [
        {
         "name": "index",
         "rawType": "object",
         "type": "string"
        },
        {
         "name": "gender",
         "rawType": "object",
         "type": "unknown"
        },
        {
         "name": "ever_married",
         "rawType": "object",
         "type": "unknown"
        },
        {
         "name": "work_type",
         "rawType": "object",
         "type": "unknown"
        },
        {
         "name": "Residence_type",
         "rawType": "object",
         "type": "unknown"
        },
        {
         "name": "smoking_status",
         "rawType": "object",
         "type": "unknown"
        }
       ],
       "ref": "d0b9c961-2acc-41b3-8330-a3c1bdd528e4",
       "rows": [
        [
         "count",
         "4088",
         "4088",
         "4088",
         "4088",
         "4088"
        ],
        [
         "unique",
         "3",
         "2",
         "5",
         "2",
         "4"
        ],
        [
         "top",
         "Female",
         "Yes",
         "Private",
         "Urban",
         "never smoked"
        ],
        [
         "freq",
         "2396",
         "2672",
         "2332",
         "2096",
         "1517"
        ]
       ],
       "shape": {
        "columns": 5,
        "rows": 4
       }
      },
      "text/html": [
       "<div>\n",
       "<style scoped>\n",
       "    .dataframe tbody tr th:only-of-type {\n",
       "        vertical-align: middle;\n",
       "    }\n",
       "\n",
       "    .dataframe tbody tr th {\n",
       "        vertical-align: top;\n",
       "    }\n",
       "\n",
       "    .dataframe thead th {\n",
       "        text-align: right;\n",
       "    }\n",
       "</style>\n",
       "<table border=\"1\" class=\"dataframe\">\n",
       "  <thead>\n",
       "    <tr style=\"text-align: right;\">\n",
       "      <th></th>\n",
       "      <th>gender</th>\n",
       "      <th>ever_married</th>\n",
       "      <th>work_type</th>\n",
       "      <th>Residence_type</th>\n",
       "      <th>smoking_status</th>\n",
       "    </tr>\n",
       "  </thead>\n",
       "  <tbody>\n",
       "    <tr>\n",
       "      <th>count</th>\n",
       "      <td>4088</td>\n",
       "      <td>4088</td>\n",
       "      <td>4088</td>\n",
       "      <td>4088</td>\n",
       "      <td>4088</td>\n",
       "    </tr>\n",
       "    <tr>\n",
       "      <th>unique</th>\n",
       "      <td>3</td>\n",
       "      <td>2</td>\n",
       "      <td>5</td>\n",
       "      <td>2</td>\n",
       "      <td>4</td>\n",
       "    </tr>\n",
       "    <tr>\n",
       "      <th>top</th>\n",
       "      <td>Female</td>\n",
       "      <td>Yes</td>\n",
       "      <td>Private</td>\n",
       "      <td>Urban</td>\n",
       "      <td>never smoked</td>\n",
       "    </tr>\n",
       "    <tr>\n",
       "      <th>freq</th>\n",
       "      <td>2396</td>\n",
       "      <td>2672</td>\n",
       "      <td>2332</td>\n",
       "      <td>2096</td>\n",
       "      <td>1517</td>\n",
       "    </tr>\n",
       "  </tbody>\n",
       "</table>\n",
       "</div>"
      ],
      "text/plain": [
       "        gender ever_married work_type Residence_type smoking_status\n",
       "count     4088         4088      4088           4088           4088\n",
       "unique       3            2         5              2              4\n",
       "top     Female          Yes   Private          Urban   never smoked\n",
       "freq      2396         2672      2332           2096           1517"
      ]
     },
     "execution_count": 10,
     "metadata": {},
     "output_type": "execute_result"
    }
   ],
   "source": [
    "df.describe(exclude = ['float', 'int64'])"
   ]
  },
  {
   "cell_type": "code",
   "execution_count": 11,
   "id": "7d31df3d",
   "metadata": {},
   "outputs": [
    {
     "name": "stdout",
     "output_type": "stream",
     "text": [
      "['Private', 'children', 'Govt_job', 'Self-employed', 'Never_worked']\n",
      "['Urban', 'Rural']\n",
      "['smokes', 'formerly smoked', 'Unknown', 'never smoked']\n",
      "['Male', 'Female', 'Other']\n"
     ]
    }
   ],
   "source": [
    "print(df['work_type'].unique().tolist())\n",
    "print(df['Residence_type'].unique().tolist())\n",
    "print(df['smoking_status'].unique().tolist())\n",
    "print(df['gender'].unique().tolist())"
   ]
  },
  {
   "cell_type": "code",
   "execution_count": 12,
   "id": "a5691464",
   "metadata": {},
   "outputs": [
    {
     "name": "stdout",
     "output_type": "stream",
     "text": [
      "============Values in gender============\n",
      "gender\n",
      "Female    2396\n",
      "Male      1691\n",
      "Other        1\n",
      "Name: count, dtype: int64\n",
      "\n",
      "============Values in hypertension============\n",
      "hypertension\n",
      "0    3687\n",
      "1     401\n",
      "Name: count, dtype: int64\n",
      "\n",
      "============Values in heart_disease============\n",
      "heart_disease\n",
      "0    3865\n",
      "1     223\n",
      "Name: count, dtype: int64\n",
      "\n",
      "============Values in smoking_status============\n",
      "smoking_status\n",
      "never smoked       1517\n",
      "Unknown            1239\n",
      "formerly smoked     698\n",
      "smokes              634\n",
      "Name: count, dtype: int64\n",
      "\n",
      "============Values in ever_married============\n",
      "ever_married\n",
      "Yes    2672\n",
      "No     1416\n",
      "Name: count, dtype: int64\n",
      "\n",
      "============Values in work_type============\n",
      "work_type\n",
      "Private          2332\n",
      "Self-employed     666\n",
      "children          548\n",
      "Govt_job          528\n",
      "Never_worked       14\n",
      "Name: count, dtype: int64\n",
      "\n",
      "============Values in Residence_type============\n",
      "Residence_type\n",
      "Urban    2096\n",
      "Rural    1992\n",
      "Name: count, dtype: int64\n",
      "\n",
      "============Values in stroke============\n",
      "stroke\n",
      "0    3888\n",
      "1     200\n",
      "Name: count, dtype: int64\n",
      "\n"
     ]
    }
   ],
   "source": [
    "col = [\"gender\", \"hypertension\", \"heart_disease\", \"smoking_status\", \n",
    "       \"ever_married\", \"work_type\", \"Residence_type\", \"stroke\"]\n",
    "\n",
    "for i in col:\n",
    "    print(f\"============Values in {i}============\\n{df[i].value_counts()}\\n\")"
   ]
  },
  {
   "cell_type": "markdown",
   "id": "467af752",
   "metadata": {},
   "source": [
    "Features:\n",
    "\n",
    "- **id**: Unique identifier for each patient (Integer)\n",
    "\n",
    "- **gender**: Gender of the patient (Categorical: Male, Female, Other)\n",
    "\n",
    "- **age**: Age of the patient in years (Numeric)\n",
    "\n",
    "- **hypertension**: Hypertension status (Binary: 0 = No, 1 = Yes)\n",
    "\n",
    "- **heart_disease**: Heart disease status (Binary: 0 = No, 1 = Yes)\n",
    "\n",
    "- **ever_married**: Marital status (Categorical: Yes, No)\n",
    "\n",
    "- **work_type**: Type of work (Categorical: Private, Self-employed, Govt_job, children, Never_worked)\n",
    "\n",
    "- **Residence_type**: Residence area (Categorical: Urban, Rural)\n",
    "\n",
    "- **avg_glucose_level**: Average blood glucose level (Numeric)\n",
    "\n",
    "- **bmi**: Body Mass Index (Numeric, may contain missing values)\n",
    "\n",
    "- **smoking_status**: Smoking habits (Categorical: formerly smoked, never smoked, smokes, Unknown)\n",
    "\n",
    "- **stroke**: Stroke occurrence (Binary: 0 = No, 1 = Yes)"
   ]
  },
  {
   "cell_type": "code",
   "execution_count": 13,
   "id": "206f682e",
   "metadata": {},
   "outputs": [
    {
     "data": {
      "image/png": "[encoded data removed]",
      "text/plain": [
       "<Figure size 2000x900 with 9 Axes>"
      ]
     },
     "metadata": {},
     "output_type": "display_data"
    }
   ],
   "source": [
    "fig = df.hist(figsize = (20, 9), bins = 30, edgecolor = \"white\")\n",
    "plt.grid(axis = \"x\", alpha = 1)\n",
    "plt.suptitle(\"Distribution of the numeric variables\", fontsize = 20, y = 1, color = \"#337ab7\")\n",
    "\n",
    "plt.subplots_adjust(wspace = 0.1) \n",
    "\n",
    "for ax in fig.flatten():\n",
    "    ax.set_xlabel(ax.get_xlabel())\n",
    "    ax.set_ylabel(ax.get_ylabel())\n",
    "    ax.set_title(ax.get_title(), fontsize = 15)\n",
    "    sns.set(style=\"whitegrid\")\n",
    "\n",
    "plt.show()"
   ]
  },
  {
   "cell_type": "code",
   "execution_count": 14,
   "id": "1a597bca",
   "metadata": {},
   "outputs": [
    {
     "data": {
      "image/png": "[encoded data removed]",
      "text/plain": [
       "<Figure size 1200x500 with 1 Axes>"
      ]
     },
     "metadata": {},
     "output_type": "display_data"
    }
   ],
   "source": [
    "plt.figure(figsize=(12, 5))\n",
    "sns.histplot(df['age'], bins=30, color=\"#337ab7\")\n",
    "plt.title('Age Distribution of Stroke Patients')\n",
    "plt.xlabel('Age')\n",
    "plt.ylabel('Frequency')\n",
    "sns.despine(left=True, bottom=True)\n",
    "plt.show()"
   ]
  },
  {
   "cell_type": "code",
   "execution_count": 15,
   "id": "3050311b",
   "metadata": {},
   "outputs": [
    {
     "name": "stderr",
     "output_type": "stream",
     "text": [
      "C:\\Users\\alexr\\AppData\\Local\\Temp\\ipykernel_24996\\2161599759.py:3: FutureWarning: \n",
      "\n",
      "Passing `palette` without assigning `hue` is deprecated and will be removed in v0.14.0. Assign the `x` variable to `hue` and set `legend=False` for the same effect.\n",
      "\n",
      "  sns.countplot(x='stroke', data=df, palette=[\"#337ab7\", \"#ff9999\"])\n"
     ]
    },
    {
     "data": {
      "image/png": "[encoded data removed]",
      "text/plain": [
       "<Figure size 700x500 with 1 Axes>"
      ]
     },
     "metadata": {},
     "output_type": "display_data"
    }
   ],
   "source": [
    "# stroke distribution\n",
    "plt.figure(figsize=(7, 5))\n",
    "sns.countplot(x='stroke', data=df, palette=[\"#337ab7\", \"#ff9999\"])\n",
    "plt.title('Distribution of Patients with Stroke risk', fontsize=16)\n",
    "plt.xlabel('Stroke', fontsize=14)\n",
    "plt.ylabel('Count', fontsize=14)\n",
    "plt.xticks(ticks=[0, 1], labels=['No Stroke', 'Stroke'], rotation=0)\n",
    "sns.despine(left=True, bottom=True)\n",
    "plt.tight_layout()\n",
    "plt.show()"
   ]
  },
  {
   "cell_type": "code",
   "execution_count": 16,
   "id": "2c15d7ac",
   "metadata": {},
   "outputs": [
    {
     "name": "stderr",
     "output_type": "stream",
     "text": [
      "C:\\Users\\alexr\\AppData\\Local\\Temp\\ipykernel_24996\\1353356799.py:5: FutureWarning: The default of observed=False is deprecated and will be changed to True in a future version of pandas. Pass observed=False to retain current behavior or observed=True to adopt the future default and silence this warning.\n",
      "  counts = df.groupby(['age_group', 'stroke']).size().unstack(fill_value=0)\n"
     ]
    },
    {
     "data": {
      "image/png": "[encoded data removed]",
      "text/plain": [
       "<Figure size 1400x600 with 1 Axes>"
      ]
     },
     "metadata": {},
     "output_type": "display_data"
    }
   ],
   "source": [
    "bins = [0, 13, 18, 45, 60, 100]\n",
    "labels = ['Children', 'Teens', 'Adults', 'Mid Adults', 'Elderly']\n",
    "df['age_group'] = pd.cut(df['age'], bins=bins, labels=labels, right=False)\n",
    "\n",
    "counts = df.groupby(['age_group', 'stroke']).size().unstack(fill_value=0)\n",
    "percentages = counts.div(counts.sum(axis=1), axis=0) * 100\n",
    "\n",
    "percentages.plot(kind='bar', stacked=True, figsize=(14,6), color=['#337ab7', 'grey'])\n",
    "\n",
    "plt.title('Age Distribution by Stroke Status (Percentage)')\n",
    "plt.xlabel('Age Group')\n",
    "plt.ylabel('Percentage (%)')\n",
    "plt.legend(title='Stroke Status', loc='upper left', bbox_to_anchor=(1, 1))\n",
    "sns.despine(left=True, bottom=True)\n",
    "plt.xticks(rotation=0) \n",
    "plt.show()"
   ]
  },
  {
   "cell_type": "code",
   "execution_count": 17,
   "id": "35159b64",
   "metadata": {},
   "outputs": [
    {
     "name": "stderr",
     "output_type": "stream",
     "text": [
      "C:\\Users\\alexr\\AppData\\Local\\Temp\\ipykernel_24996\\1123696244.py:5: FutureWarning: The default of observed=False is deprecated and will be changed to True in a future version of pandas. Pass observed=False to retain current behavior or observed=True to adopt the future default and silence this warning.\n",
      "  counts = df.groupby(['bmi_group', 'stroke']).size().unstack(fill_value=0)\n"
     ]
    },
    {
     "data": {
      "image/png": "[encoded data removed]",
      "text/plain": [
       "<Figure size 1400x600 with 1 Axes>"
      ]
     },
     "metadata": {},
     "output_type": "display_data"
    }
   ],
   "source": [
    "bins = [0, 19, 25, 30, 1000]\n",
    "labels = ['Underweight', 'Ideal', 'Overweight', 'Obesity']\n",
    "df['bmi_group'] = pd.cut(df['bmi'], bins=bins, labels=labels, right=False)\n",
    "\n",
    "counts = df.groupby(['bmi_group', 'stroke']).size().unstack(fill_value=0)\n",
    "percentages = counts.div(counts.sum(axis=1), axis=0) * 100\n",
    "\n",
    "percentages.plot(kind='bar', stacked=True, figsize=(14,6), color=['#337ab7', 'grey'])\n",
    "\n",
    "plt.title('BMI Distribution by Stroke Status (Percentage)')\n",
    "plt.xlabel('BMI Group')\n",
    "plt.ylabel('Percentage (%)')\n",
    "plt.legend(title='Stroke Status', loc='upper left', bbox_to_anchor=(1, 1))\n",
    "sns.despine(left=True, bottom=True)\n",
    "plt.xticks(rotation=0) \n",
    "plt.show()"
   ]
  }
 ],
 "metadata": {
  "kernelspec": {
   "display_name": "mlops",
   "language": "python",
   "name": "python3"
  },
  "language_info": {
   "codemirror_mode": {
    "name": "ipython",
    "version": 3
   },
   "file_extension": ".py",
   "mimetype": "text/x-python",
   "name": "python",
   "nbconvert_exporter": "python",
   "pygments_lexer": "ipython3",
   "version": "3.12.5"
  }
 },
 "nbformat": 4,
 "nbformat_minor": 5
}
